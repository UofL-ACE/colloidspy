{
 "metadata": {
  "language_info": {
   "codemirror_mode": {
    "name": "ipython",
    "version": 3
   },
   "file_extension": ".py",
   "mimetype": "text/x-python",
   "name": "python",
   "nbconvert_exporter": "python",
   "pygments_lexer": "ipython3",
   "version": "3.8.6"
  },
  "orig_nbformat": 2,
  "kernelspec": {
   "name": "python386jvsc74a57bd004db194e5e101eeca65ce7f551ac7124bd3224a9cdcf618053869739352b40ec",
   "display_name": "Python 3.8.6 64-bit ('NASAColloids': virtualenvwrapper)"
  },
  "metadata": {
   "interpreter": {
    "hash": "04db194e5e101eeca65ce7f551ac7124bd3224a9cdcf618053869739352b40ec"
   }
  }
 },
 "nbformat": 4,
 "nbformat_minor": 2,
 "cells": [
  {
   "source": [
    "# Colloidspy Example Workflow"
   ],
   "cell_type": "markdown",
   "metadata": {}
  },
  {
   "source": [
    "### Imports:"
   ],
   "cell_type": "markdown",
   "metadata": {}
  },
  {
   "cell_type": "code",
   "execution_count": 5,
   "metadata": {},
   "outputs": [],
   "source": [
    "from colloidspy import cspy\n",
    "import os\n",
    "import numpy as np\n",
    "import pandas as pd\n",
    "import matplotlib.pyplot as plt"
   ]
  },
  {
   "source": [
    "### Step 1 - Load the images\n",
    "\n",
    "CspyStack is python class that holds all of the images.\n",
    "\n",
    "Each new processed version of the images we create will be held in attributes of the stack. Each original image can be found by indexing the stack:\n",
    "- stack`[0]` would return the first image."
   ],
   "cell_type": "markdown",
   "metadata": {}
  },
  {
   "cell_type": "code",
   "execution_count": null,
   "metadata": {},
   "outputs": [],
   "source": [
    "\n",
    "directory = 'replace with the directory that the images are in'\n",
    "stack = cspy.CspyStack(*cspy.load(os.path.join(director, '*.tiff')))"
   ]
  },
  {
   "source": [
    "### Step 2 (optional) - Crop all images to the desired Region of Interest (ROI)\n",
    "\n",
    "This brings up the first image. Click and drag from the top left to the bottom right to select the ROI.\n",
    "\n",
    "Hit any key to continue. If it does not continue, hit 'q' to deactivate the selector, then hit any key.\n",
    "\n",
    "Once cropped, ROI's can be found by its attribute:\n",
    "- stack.cropped\n",
    "\n",
    "A single cropped image (and likewise for all remaining attributes) can be accessed by indexing the attribute:\n",
    "- stack.cropped`[0]` returns the first cropped image"
   ],
   "cell_type": "markdown",
   "metadata": {}
  },
  {
   "cell_type": "code",
   "execution_count": null,
   "metadata": {},
   "outputs": [],
   "source": [
    "import matplotlib # only required if using a jupyter notebook\n",
    "matplotlib.use('Qt5Agg')  # only required if using a jupyter notebook\n",
    "\n",
    "stack.add_cropped()"
   ]
  },
  {
   "source": [
    "### Step 3 - Binarize the images\n",
    "\n",
    "Binarization enables the program to recognize what is a particle and what is background. Each pixel is either white (particle) or black (background).\n",
    "There are three methods available, you should test them each and see which method works best for your images.\n",
    "\n",
    "- Otsu threshold sets a cutoff pixel value, anything above is a \"particle\" anything below is \"background\". This method works well for most confocal images with even lighting and not too high particle density.\n",
    "- Local threshold evaluates each pixel based on the surrounding pixels. This method is more flexible and works in most cases where the otsu method fails, but is much slower.\n",
    "- Hysteresis threshold finds bright spots and fills in particles from each of those spots like nucleation points. This method may work for systems where local and otsu thresholds are not working well (rare).\n",
    "\n",
    "Once the optimal method and their corresponding parameters have been chosen, it is best to only use one of the three methods for the final analysis to minimize memory usage.\n",
    "\n",
    "Once once of these methods has been called, you can find the binarized stack at its respective attribute:\n",
    "\n",
    "- stack.binary_otsu\n",
    "- stack.binary_loc\n",
    "- stack.binary_hyst"
   ],
   "cell_type": "markdown",
   "metadata": {}
  },
  {
   "cell_type": "code",
   "execution_count": null,
   "metadata": {},
   "outputs": [],
   "source": [
    "stack.add_otsu()"
   ]
  },
  {
   "cell_type": "code",
   "execution_count": null,
   "metadata": {},
   "outputs": [],
   "source": [
    "# 'block_size' sets how large the region is that is used to evaluate if a pixel should be white or black. Must be an odd number.\n",
    "# Too large of a block_size can miss important features, too small can introduce noise, false white spots in background spaces, or false black spots in particle.\n",
    "# Offset subtracts from the weighted mean of the of the region before thresholding\n",
    "# Cutoff sets a minimum pixel value that can be considered a particle. Helpful if false white regions are showing up in the background.\n",
    "stack.add_local_threshold(block_size=151, offset=1, cutoff=0)"
   ]
  },
  {
   "cell_type": "code",
   "execution_count": null,
   "metadata": {},
   "outputs": [],
   "source": [
    "# All pixels with a value above 'high' are considered part of a particle.\n",
    "# All pixels with a value below 'low' are considered background.\n",
    "# Intermediate value pixels are evaluated based on whether or not they touch a pixel that has already been designated as a particle.\n",
    "# This method can be fairly sensitive to the low and high pixel cutoffs set, so it may require experimentation.\n",
    "stack.add_hysteresis_threshold(low=20, high=150)"
   ]
  },
  {
   "source": [
    "### Step 4 - Remove noise\n",
    "\n",
    "This cleans up pixel noise, leaving the major structuring elements of the binary images.\n",
    "Pass in the binary stack you created.\n",
    "\n",
    "Future analysis will be done on this stack."
   ],
   "cell_type": "markdown",
   "metadata": {}
  },
  {
   "cell_type": "code",
   "execution_count": null,
   "metadata": {},
   "outputs": [],
   "source": [
    "stack.add_cleaned(stack.binary_otsu)\n"
   ]
  },
  {
   "source": [
    "### Step 5 (optional) - Detect particles + quality check\n",
    "\n",
    "This is helpful when setting up the analysis to make sure everything is working correctly and accurately.\n",
    "If this is skipped, particles will be detected in step 6."
   ],
   "cell_type": "markdown",
   "metadata": {}
  },
  {
   "cell_type": "code",
   "execution_count": null,
   "metadata": {},
   "outputs": [],
   "source": [
    "# min_distance is the minimum distance of particle centers (in pixels)\n",
    "stack.find_particles(stack.cleaned, min_distance=3)\n",
    "\n",
    "# see particles in the first image outlined in red\n",
    "plt.imshow(cspy.view_particles(stack.cropped[0], stack.particles[0], weight=1))"
   ]
  },
  {
   "source": [
    "### Step 6 - Analyze the stack\n",
    "\n",
    "This function will do two things:\n",
    "- Populate the attribute stack.particle_data with pandas dataframes of particle data for each image\n",
    "- Return a dataframe with summaries of the particle data from each image\n",
    "\n",
    "Options:\n",
    "- save_dfs: True will save the dataframes for each image as a csv in the directory provided\n",
    "- save_ims: True will save a binary image of the particles to the directory provided\n",
    "- save_dir: directory the save images and dataframes (required if saving dfs or ims)\n",
    "- im_titles: list of titles that you want each processed image and its dataframe to be saved as. If none is given, they will be numbered sequentially.\n",
    "- imtype: image file type to save the binary images as"
   ],
   "cell_type": "markdown",
   "metadata": {}
  },
  {
   "cell_type": "code",
   "execution_count": null,
   "metadata": {},
   "outputs": [],
   "source": [
    "overalldf = stack.analyze_stack(save_dfs=False, save_ims=False, save_dir=None, im_titles=None, imtype='tiff', min_distance=7)"
   ]
  },
  {
   "source": [
    "## Helpful Information\n",
    "\n",
    "cspy.load() will currently only work with greyscale, rgb, and rgba images. All images will be converted back to 8bit greyscale (0-255)\n",
    "\n",
    "cspy.view_particles(image, particles, weight) will draw the particles over the image given, can be the binary version or the greyscale version. The image provided MUST be the same size as the particles. So, if you cropped the images, you can pass in either the binary image or the cropped image. If you did not crop the images, you can use the binary or the original image from the stack.\n",
    "\n",
    "The attribute CspyStack.particles has each discrete particle tagged with an integer. So, all pixels of the first detected particle (top left) will have a value of '1', all pixels in the second particle will have a value of '2', etc. A pixel value of '0' indicates background.\n",
    "\n",
    "\n",
    "### Extra methods\n",
    "\n",
    "The rdf method will return the simple radial distribution function of the particles. This is based off of only two dimensions, and does not account for edge effects.\n",
    "\n",
    "'image_index' is the index of the image from which you want to calculate the rdf. This returns a tuple of distance/avg particle radius and the rdf, and does not save it as an attribute. This method uses the particle centers from stack.particle_data found earlier in the analysis."
   ],
   "cell_type": "markdown",
   "metadata": {}
  },
  {
   "cell_type": "code",
   "execution_count": null,
   "metadata": {},
   "outputs": [],
   "source": [
    "distance, gr = stack.rdf(0)\n"
   ]
  },
  {
   "source": [
    "The structure_factor method calculates the squared intensity of the fourier transform (2D FFT) of the image at the index given. It returns the structure factor over spatial frequency (in 1/px)"
   ],
   "cell_type": "markdown",
   "metadata": {}
  },
  {
   "cell_type": "code",
   "execution_count": null,
   "metadata": {},
   "outputs": [],
   "source": [
    "sfactor = stack.structure_factor(0)"
   ]
  },
  {
   "source": [
    "### List of all attributes:\n",
    "- CspyStack.filenames - original filenames of each image imported\n",
    "- CspyStack.cropped - image ROI's, set with add_cropped()\n",
    "- CspyStack.crop_coords - (x,y) coordinates of image ROI\n",
    "- CspyStack.binary_otsu - ROI's binarized with otsu threshold, set with add_otsu()\n",
    "- CspyStack.binary_loc - ROI's binarized with local threshold, set with add_local_threshold()\n",
    "- CspyStack.binary_hyst - ROI's binarized with hysteresis threshold, set with add_hysteresis_threshold()\n",
    "- CspyStack.cleaned - Cleaned binary ROI's, set with add_cleaned(BinaryStack) where BinaryStack is the set of binary images chosen earlier with otsu, local, or hysteresis threshold methods\n",
    "- CspyStack.particles - ROI where the pixels of all particles are assigned a unique integer labeled by particle\n",
    "- CspyStack.particle_data - pandas dataframes of particle data in each image, held in a list\n",
    "\n"
   ],
   "cell_type": "markdown",
   "metadata": {}
  }
 ]
}