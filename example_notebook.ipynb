{
 "metadata": {
  "language_info": {
   "codemirror_mode": {
    "name": "ipython",
    "version": 3
   },
   "file_extension": ".py",
   "mimetype": "text/x-python",
   "name": "python",
   "nbconvert_exporter": "python",
   "pygments_lexer": "ipython3",
   "version": "3.8.6"
  },
  "orig_nbformat": 2,
  "kernelspec": {
   "name": "python386jvsc74a57bd004db194e5e101eeca65ce7f551ac7124bd3224a9cdcf618053869739352b40ec",
   "display_name": "Python 3.8.6 64-bit ('NASAColloids': virtualenvwrapper)"
  },
  "metadata": {
   "interpreter": {
    "hash": "04db194e5e101eeca65ce7f551ac7124bd3224a9cdcf618053869739352b40ec"
   }
  }
 },
 "nbformat": 4,
 "nbformat_minor": 2,
 "cells": [
  {
   "source": [
    "# Colloidspy Example Workflow"
   ],
   "cell_type": "markdown",
   "metadata": {}
  },
  {
   "source": [
    "### Imports:"
   ],
   "cell_type": "markdown",
   "metadata": {}
  },
  {
   "cell_type": "code",
   "execution_count": 1,
   "metadata": {},
   "outputs": [
    {
     "output_type": "error",
     "ename": "ImportError",
     "evalue": "cannot import name 'cspy' from 'colloidspy' (/home/adam/.virtualenvs/NASAColloids/lib/python3.8/site-packages/colloidspy/__init__.py)",
     "traceback": [
      "\u001b[0;31m---------------------------------------------------------------------------\u001b[0m",
      "\u001b[0;31mImportError\u001b[0m                               Traceback (most recent call last)",
      "\u001b[0;32m<ipython-input-1-7cd178d0f265>\u001b[0m in \u001b[0;36m<module>\u001b[0;34m\u001b[0m\n\u001b[0;32m----> 1\u001b[0;31m \u001b[0;32mfrom\u001b[0m \u001b[0mcolloidspy\u001b[0m \u001b[0;32mimport\u001b[0m \u001b[0mcspy\u001b[0m\u001b[0;34m\u001b[0m\u001b[0;34m\u001b[0m\u001b[0m\n\u001b[0m\u001b[1;32m      2\u001b[0m \u001b[0;32mimport\u001b[0m \u001b[0mskimage\u001b[0m\u001b[0;34m.\u001b[0m\u001b[0mio\u001b[0m \u001b[0;32mas\u001b[0m \u001b[0mio\u001b[0m\u001b[0;34m\u001b[0m\u001b[0;34m\u001b[0m\u001b[0m\n\u001b[1;32m      3\u001b[0m \u001b[0;32mimport\u001b[0m \u001b[0mnumpy\u001b[0m \u001b[0;32mas\u001b[0m \u001b[0mnp\u001b[0m\u001b[0;34m\u001b[0m\u001b[0;34m\u001b[0m\u001b[0m\n\u001b[1;32m      4\u001b[0m \u001b[0;32mimport\u001b[0m \u001b[0mos\u001b[0m\u001b[0;34m\u001b[0m\u001b[0;34m\u001b[0m\u001b[0m\n",
      "\u001b[0;31mImportError\u001b[0m: cannot import name 'cspy' from 'colloidspy' (/home/adam/.virtualenvs/NASAColloids/lib/python3.8/site-packages/colloidspy/__init__.py)"
     ]
    }
   ],
   "source": [
    "from colloidspy import cspy\n",
    "import skimage.io as io\n",
    "import numpy as np\n",
    "import os\n"
   ]
  },
  {
   "cell_type": "code",
   "execution_count": null,
   "metadata": {},
   "outputs": [],
   "source": [
    "## Step 1 - Load the images"
   ]
  },
  {
   "cell_type": "code",
   "execution_count": null,
   "metadata": {},
   "outputs": [],
   "source": [
    "# Step One: load images\n",
    "directory = 'replace with the directory that the images are in'\n",
    "stack = cspy.CspyStack(*cspy.load(os.path.join(director, '*.tiff')))\n",
    "\n",
    "# Step Two (optional): Crop all images to the desired Region of Interest (ROI)\n",
    "# this will bring up the first image. Click and drag from the top left to the bottom right to choose the ROI\n",
    "stack.add_cropped()\n",
    "\n",
    "# Step Three: Choose the best binarization method for your images\n",
    "#   Option 1: Otsu threshold (fast, works for majority of cases)\n",
    "stack.add_otsu()\n",
    "#   Option 2: Local threshold (slower, better for images with lighting gradients or lots of fine detail)\n",
    "stack.add_local_threshold(block_size=151, offset=1, cutoff=3)\n",
    "#   Option 3: Hysteresis threshold (middle of the road option, but can be sensitive to parameters)\n",
    "#       low is the lowest pixel value that may be considered a part of a particle\n",
    "#       all pixel values above 'high' will always be considered part of a particle\n",
    "stack.add_hysteresis_threshold(low=20, high=150)\n",
    "\n",
    "# Step Four: Clean the binary images to remove extra noise\n",
    "# You must pass in the attribute \n",
    "stack.add_cleaned(stack.binary_otsu)\n",
    "stack.find_particles(stack.cleaned, min_distance=3)"
   ]
  }
 ]
}